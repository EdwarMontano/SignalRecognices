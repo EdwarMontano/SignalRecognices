{
 "cells": [
  {
   "cell_type": "code",
   "execution_count": 2,
   "id": "915c7911",
   "metadata": {},
   "outputs": [
    {
     "data": {
      "text/plain": [
       "113"
      ]
     },
     "execution_count": 2,
     "metadata": {},
     "output_type": "execute_result"
    }
   ],
   "source": [
    "import pytesseract\n",
    "import cv2\n",
    "img = cv2.imread('/Users/chocoplot/Documents/codeLAB/signal_Recognition/python/Proyecto/datasets/Dataset_Final_3Clases_Test/03_GenfarAcetaminofen/00006_genfarACE_resized._aug0.JPEG')\n",
    "img = cv2.resize(img, (720, 480))\n",
    "cv2.imshow('Result', img)\n",
    "cv2.waitKey(0)"
   ]
  },
  {
   "cell_type": "markdown",
   "id": "3426435d",
   "metadata": {},
   "source": []
  },
  {
   "cell_type": "code",
   "execution_count": 3,
   "id": "48b6518b",
   "metadata": {},
   "outputs": [],
   "source": [
    "pytesseract.pytesseract.tesseract_cmd = r\"/opt/homebrew/Cellar/tesseract/5.3.1_1/bin/tesseract\""
   ]
  },
  {
   "cell_type": "code",
   "execution_count": 4,
   "id": "7f40c1b8",
   "metadata": {},
   "outputs": [
    {
     "name": "stdout",
     "output_type": "stream",
     "text": [
      "astonimsss>* q\n",
      "err C= .\n",
      "\n",
      "=stnses zasoldat OOF\n",
      "\n",
      "\n"
     ]
    },
    {
     "data": {
      "text/plain": [
       "113"
      ]
     },
     "execution_count": 4,
     "metadata": {},
     "output_type": "execute_result"
    }
   ],
   "source": [
    "import pytesseract\n",
    "import cv2\n",
    "img = cv2.imread('/Users/chocoplot/Documents/codeLAB/signal_Recognition/python/Proyecto/datasets/Dataset_Final_3Clases_Test/03_GenfarAcetaminofen/00006_genfarACE_resized._aug0.JPEG')\n",
    "img = cv2.resize(img, (600, 360))\n",
    "print(pytesseract.image_to_string(img))\n",
    "cv2.imshow('Result', img)\n",
    "cv2.waitKey(0)"
   ]
  },
  {
   "cell_type": "code",
   "execution_count": 5,
   "id": "9053fb5f",
   "metadata": {},
   "outputs": [],
   "source": [
    "pytesseract.pytesseract.tesseract_cmd = r\"/opt/homebrew/Cellar/tesseract/5.3.1_1/bin/tesseract\""
   ]
  },
  {
   "cell_type": "code",
   "execution_count": 1,
   "id": "d8c683ca",
   "metadata": {},
   "outputs": [
    {
     "name": "stdout",
     "output_type": "stream",
     "text": [
      "a 68 319 105 336 0\n",
      "s 108 320 145 343 0\n",
      "t 145 322 174 345 0\n",
      "o 176 315 220 341 0\n",
      "n 219 326 256 343 0\n",
      "i 260 327 276 351 0\n",
      "m 281 321 339 360 0\n",
      "s 339 332 380 357 0\n",
      "s 380 333 409 360 0\n",
      "s 411 335 448 352 0\n",
      "> 449 336 482 360 0\n",
      "* 484 331 544 360 0\n",
      "q 571 248 596 360 0\n",
      "e 405 297 424 334 0\n",
      "r 405 301 458 321 0\n",
      "r 439 297 458 334 0\n",
      "C 479 312 539 330 0\n",
      "= 506 297 541 334 0\n",
      ". 558 321 561 323 0\n",
      "= 48 44 92 96 0\n",
      "s 52 54 132 78 0\n",
      "t 130 44 161 96 0\n",
      "n 160 44 196 96 0\n",
      "s 129 58 297 92 0\n",
      "e 229 44 265 96 0\n",
      "s 264 44 300 96 0\n",
      "z 377 69 390 79 0\n",
      "a 393 70 411 80 0\n",
      "s 415 71 424 83 0\n",
      "o 428 72 446 82 0\n",
      "l 449 73 456 86 0\n",
      "d 460 73 479 87 0\n",
      "a 482 74 500 84 0\n",
      "t 500 75 514 88 0\n",
      "O 527 76 547 89 0\n",
      "O 548 77 569 90 0\n",
      "F 575 78 585 91 0\n",
      "~ 0 0 600 62 0\n",
      "\n"
     ]
    },
    {
     "ename": "",
     "evalue": "",
     "output_type": "error",
     "traceback": [
      "\u001b[1;31mCannot execute code, session has been disposed. Please try restarting the Kernel."
     ]
    },
    {
     "ename": "",
     "evalue": "",
     "output_type": "error",
     "traceback": [
      "\u001b[1;31mThe Kernel crashed while executing code in the the current cell or a previous cell. Please review the code in the cell(s) to identify a possible cause of the failure. Click <a href='https://aka.ms/vscodeJupyterKernelCrash'>here</a> for more info. View Jupyter <a href='command:jupyter.viewOutput'>log</a> for further details."
     ]
    }
   ],
   "source": [
    "import pytesseract\n",
    "import cv2\n",
    "img = cv2.imread('/Users/chocoplot/Documents/codeLAB/signal_Recognition/python/Proyecto/datasets/Dataset_Final_3Clases_Test/03_GenfarAcetaminofen/00006_genfarACE_resized._aug0.JPEG')\n",
    "img = cv2.resize(img, (600, 360))\n",
    "print(pytesseract.image_to_boxes(img))\n",
    "cv2.imshow('Result', img)\n",
    "cv2.waitKey(0)"
   ]
  },
  {
   "cell_type": "code",
   "execution_count": 37,
   "id": "011c0293",
   "metadata": {},
   "outputs": [
    {
     "name": "stdout",
     "output_type": "stream",
     "text": [
      "['F', '226', '328', '257', '356', '0']\n",
      "['A', '259', '328', '304', '356', '0']\n",
      "['I', '308', '328', '324', '356', '0']\n",
      "['L', '331', '328', '363', '356', '0']\n",
      "['U', '368', '327', '409', '356', '0']\n",
      "['R', '416', '328', '457', '356', '0']\n",
      "['E', '460', '328', '494', '356', '0']\n",
      "['i', '332', '293', '348', '322', '0']\n",
      "['S', '352', '293', '388', '322', '0']\n",
      "['N', '291', '259', '335', '287', '0']\n",
      "['O', '340', '259', '387', '288', '0']\n",
      "['T', '391', '259', '430', '287', '0']\n",
      "['A', '311', '225', '356', '254', '0']\n",
      "['N', '360', '225', '404', '254', '0']\n",
      "['O', '231', '190', '278', '220', '0']\n",
      "['P', '284', '191', '321', '220', '0']\n",
      "['T', '324', '191', '363', '219', '0']\n",
      "['I', '368', '191', '384', '219', '0']\n",
      "['O', '390', '190', '437', '220', '0']\n",
      "['N', '442', '191', '486', '219', '0']\n"
     ]
    },
    {
     "data": {
      "text/plain": [
       "-1"
      ]
     },
     "execution_count": 37,
     "metadata": {},
     "output_type": "execute_result"
    }
   ],
   "source": [
    "import pytesseract\n",
    "import cv2\n",
    "img = cv2.imread('try.png')\n",
    "img = cv2.resize(img, (720, 480))\n",
    "hImg, wImg, _ = img.shape\n",
    "\n",
    "boxes = pytesseract.image_to_boxes(img)\n",
    "\n",
    "for b in boxes.splitlines():\n",
    "    b = b.split(' ')\n",
    "    print(b)\n",
    "    x, y, w, h = int(b[1]), int(b[2]), int(b[3]), int(b[4])\n",
    "    cv2.rectangle(img, (x, hImg - y), (w, hImg - h), (50, 50, 255), 1)\n",
    "    cv2.putText(img, b[0], (x, hImg - y + 13), cv2.FONT_HERSHEY_SIMPLEX, 0.4, (50, 205, 50), 1)\n",
    "\n",
    "cv2.imshow('Detected text', img)\n",
    "cv2.waitKey(0)"
   ]
  },
  {
   "cell_type": "code",
   "execution_count": null,
   "id": "ee6dee91",
   "metadata": {},
   "outputs": [],
   "source": []
  }
 ],
 "metadata": {
  "kernelspec": {
   "display_name": "Python 3",
   "language": "python",
   "name": "python3"
  },
  "language_info": {
   "codemirror_mode": {
    "name": "ipython",
    "version": 3
   },
   "file_extension": ".py",
   "mimetype": "text/x-python",
   "name": "python",
   "nbconvert_exporter": "python",
   "pygments_lexer": "ipython3",
   "version": "3.10.9"
  }
 },
 "nbformat": 4,
 "nbformat_minor": 5
}
